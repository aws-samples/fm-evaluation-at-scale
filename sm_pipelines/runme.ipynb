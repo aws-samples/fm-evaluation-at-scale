{
 "cells": [
  {
   "cell_type": "code",
   "execution_count": 9,
   "id": "73b8629c-d76b-40ba-a469-feb2f9a94657",
   "metadata": {
    "tags": []
   },
   "outputs": [
    {
     "name": "stdout",
     "output_type": "stream",
     "text": [
      "Requirement already satisfied: pip in /usr/local/lib/python3.10/site-packages (23.3.2)\n",
      "\u001b[33mWARNING: Running pip as the 'root' user can result in broken permissions and conflicting behaviour with the system package manager. It is recommended to use a virtual environment instead: https://pip.pypa.io/warnings/venv\u001b[0m\u001b[33m\n",
      "\u001b[0mRequirement already satisfied: scikit-learn in /usr/local/lib/python3.10/site-packages (from -r local-requirements.txt (line 1)) (1.4.0)\n",
      "Requirement already satisfied: xgboost==1.7.1 in /usr/local/lib/python3.10/site-packages (from -r local-requirements.txt (line 2)) (1.7.1)\n",
      "Requirement already satisfied: s3fs==0.4.2 in /usr/local/lib/python3.10/site-packages (from -r local-requirements.txt (line 3)) (0.4.2)\n",
      "Requirement already satisfied: pandas in /usr/local/lib/python3.10/site-packages (from -r local-requirements.txt (line 4)) (2.1.4)\n",
      "Requirement already satisfied: gevent in /usr/local/lib/python3.10/site-packages (from -r local-requirements.txt (line 5)) (23.9.1)\n",
      "Requirement already satisfied: geventhttpclient in /usr/local/lib/python3.10/site-packages (from -r local-requirements.txt (line 6)) (2.0.11)\n",
      "Requirement already satisfied: Markdown in /usr/local/lib/python3.10/site-packages (from -r local-requirements.txt (line 7)) (3.5.2)\n",
      "Requirement already satisfied: sagemaker in /usr/local/lib/python3.10/site-packages (from -r local-requirements.txt (line 8)) (2.203.1)\n",
      "Requirement already satisfied: numpy in /usr/local/lib/python3.10/site-packages (from xgboost==1.7.1->-r local-requirements.txt (line 2)) (1.26.3)\n",
      "Requirement already satisfied: scipy in /usr/local/lib/python3.10/site-packages (from xgboost==1.7.1->-r local-requirements.txt (line 2)) (1.11.4)\n",
      "Requirement already satisfied: botocore>=1.12.91 in /usr/local/lib/python3.10/site-packages (from s3fs==0.4.2->-r local-requirements.txt (line 3)) (1.34.1)\n",
      "Requirement already satisfied: fsspec>=0.6.0 in /usr/local/lib/python3.10/site-packages (from s3fs==0.4.2->-r local-requirements.txt (line 3)) (2023.12.2)\n",
      "Requirement already satisfied: joblib>=1.2.0 in /usr/local/lib/python3.10/site-packages (from scikit-learn->-r local-requirements.txt (line 1)) (1.3.2)\n",
      "Requirement already satisfied: threadpoolctl>=2.0.0 in /usr/local/lib/python3.10/site-packages (from scikit-learn->-r local-requirements.txt (line 1)) (3.2.0)\n",
      "Requirement already satisfied: python-dateutil>=2.8.2 in /usr/local/lib/python3.10/site-packages (from pandas->-r local-requirements.txt (line 4)) (2.8.2)\n",
      "Requirement already satisfied: pytz>=2020.1 in /usr/local/lib/python3.10/site-packages (from pandas->-r local-requirements.txt (line 4)) (2023.3.post1)\n",
      "Requirement already satisfied: tzdata>=2022.1 in /usr/local/lib/python3.10/site-packages (from pandas->-r local-requirements.txt (line 4)) (2023.4)\n",
      "Requirement already satisfied: zope.event in /usr/local/lib/python3.10/site-packages (from gevent->-r local-requirements.txt (line 5)) (5.0)\n",
      "Requirement already satisfied: zope.interface in /usr/local/lib/python3.10/site-packages (from gevent->-r local-requirements.txt (line 5)) (6.1)\n",
      "Requirement already satisfied: greenlet>=2.0.0 in /usr/local/lib/python3.10/site-packages (from gevent->-r local-requirements.txt (line 5)) (3.0.3)\n",
      "Requirement already satisfied: certifi in /usr/local/lib/python3.10/site-packages (from geventhttpclient->-r local-requirements.txt (line 6)) (2023.11.17)\n",
      "Requirement already satisfied: six in /usr/local/lib/python3.10/site-packages (from geventhttpclient->-r local-requirements.txt (line 6)) (1.16.0)\n",
      "Requirement already satisfied: brotli in /usr/local/lib/python3.10/site-packages (from geventhttpclient->-r local-requirements.txt (line 6)) (1.1.0)\n",
      "Requirement already satisfied: attrs<24,>=23.1.0 in /usr/local/lib/python3.10/site-packages (from sagemaker->-r local-requirements.txt (line 8)) (23.2.0)\n",
      "Requirement already satisfied: boto3<2.0,>=1.33.3 in /usr/local/lib/python3.10/site-packages (from sagemaker->-r local-requirements.txt (line 8)) (1.34.1)\n",
      "Requirement already satisfied: cloudpickle==2.2.1 in /usr/local/lib/python3.10/site-packages (from sagemaker->-r local-requirements.txt (line 8)) (2.2.1)\n",
      "Requirement already satisfied: google-pasta in /usr/local/lib/python3.10/site-packages (from sagemaker->-r local-requirements.txt (line 8)) (0.2.0)\n",
      "Requirement already satisfied: protobuf<5.0,>=3.12 in /usr/local/lib/python3.10/site-packages (from sagemaker->-r local-requirements.txt (line 8)) (4.25.2)\n",
      "Requirement already satisfied: smdebug-rulesconfig==1.0.1 in /usr/local/lib/python3.10/site-packages (from sagemaker->-r local-requirements.txt (line 8)) (1.0.1)\n",
      "Requirement already satisfied: importlib-metadata<7.0,>=1.4.0 in /usr/local/lib/python3.10/site-packages (from sagemaker->-r local-requirements.txt (line 8)) (6.11.0)\n",
      "Requirement already satisfied: packaging>=20.0 in /usr/local/lib/python3.10/site-packages (from sagemaker->-r local-requirements.txt (line 8)) (21.3)\n",
      "Requirement already satisfied: pathos in /usr/local/lib/python3.10/site-packages (from sagemaker->-r local-requirements.txt (line 8)) (0.3.1)\n",
      "Requirement already satisfied: schema in /usr/local/lib/python3.10/site-packages (from sagemaker->-r local-requirements.txt (line 8)) (0.7.5)\n",
      "Requirement already satisfied: PyYAML~=6.0 in /usr/local/lib/python3.10/site-packages (from sagemaker->-r local-requirements.txt (line 8)) (6.0.1)\n",
      "Requirement already satisfied: jsonschema in /usr/local/lib/python3.10/site-packages (from sagemaker->-r local-requirements.txt (line 8)) (4.21.0)\n",
      "Requirement already satisfied: platformdirs in /usr/local/lib/python3.10/site-packages (from sagemaker->-r local-requirements.txt (line 8)) (4.1.0)\n",
      "Requirement already satisfied: tblib<3,>=1.7.0 in /usr/local/lib/python3.10/site-packages (from sagemaker->-r local-requirements.txt (line 8)) (2.0.0)\n",
      "Requirement already satisfied: urllib3<1.27 in /usr/local/lib/python3.10/site-packages (from sagemaker->-r local-requirements.txt (line 8)) (1.26.18)\n",
      "Requirement already satisfied: uvicorn==0.22.0 in /usr/local/lib/python3.10/site-packages (from sagemaker->-r local-requirements.txt (line 8)) (0.22.0)\n",
      "Requirement already satisfied: fastapi==0.95.2 in /usr/local/lib/python3.10/site-packages (from sagemaker->-r local-requirements.txt (line 8)) (0.95.2)\n",
      "Requirement already satisfied: requests in /usr/local/lib/python3.10/site-packages (from sagemaker->-r local-requirements.txt (line 8)) (2.31.0)\n",
      "Requirement already satisfied: docker in /usr/local/lib/python3.10/site-packages (from sagemaker->-r local-requirements.txt (line 8)) (7.0.0)\n",
      "Requirement already satisfied: tqdm in /usr/local/lib/python3.10/site-packages (from sagemaker->-r local-requirements.txt (line 8)) (4.66.1)\n",
      "Requirement already satisfied: psutil in /usr/local/lib/python3.10/site-packages (from sagemaker->-r local-requirements.txt (line 8)) (5.9.6)\n",
      "Requirement already satisfied: pydantic!=1.7,!=1.7.1,!=1.7.2,!=1.7.3,!=1.8,!=1.8.1,<2.0.0,>=1.6.2 in /usr/local/lib/python3.10/site-packages (from fastapi==0.95.2->sagemaker->-r local-requirements.txt (line 8)) (1.10.13)\n",
      "Requirement already satisfied: starlette<0.28.0,>=0.27.0 in /usr/local/lib/python3.10/site-packages (from fastapi==0.95.2->sagemaker->-r local-requirements.txt (line 8)) (0.27.0)\n",
      "Requirement already satisfied: click>=7.0 in /usr/local/lib/python3.10/site-packages (from uvicorn==0.22.0->sagemaker->-r local-requirements.txt (line 8)) (8.1.7)\n",
      "Requirement already satisfied: h11>=0.8 in /usr/local/lib/python3.10/site-packages (from uvicorn==0.22.0->sagemaker->-r local-requirements.txt (line 8)) (0.14.0)\n",
      "Requirement already satisfied: jmespath<2.0.0,>=0.7.1 in /usr/local/lib/python3.10/site-packages (from boto3<2.0,>=1.33.3->sagemaker->-r local-requirements.txt (line 8)) (1.0.1)\n",
      "Requirement already satisfied: s3transfer<0.10.0,>=0.9.0 in /usr/local/lib/python3.10/site-packages (from boto3<2.0,>=1.33.3->sagemaker->-r local-requirements.txt (line 8)) (0.9.0)\n",
      "Requirement already satisfied: zipp>=0.5 in /usr/local/lib/python3.10/site-packages (from importlib-metadata<7.0,>=1.4.0->sagemaker->-r local-requirements.txt (line 8)) (3.17.0)\n",
      "Requirement already satisfied: pyparsing!=3.0.5,>=2.0.2 in /usr/local/lib/python3.10/site-packages (from packaging>=20.0->sagemaker->-r local-requirements.txt (line 8)) (3.1.1)\n",
      "Requirement already satisfied: charset-normalizer<4,>=2 in /usr/local/lib/python3.10/site-packages (from requests->sagemaker->-r local-requirements.txt (line 8)) (3.3.2)\n",
      "Requirement already satisfied: idna<4,>=2.5 in /usr/local/lib/python3.10/site-packages (from requests->sagemaker->-r local-requirements.txt (line 8)) (3.6)\n",
      "Requirement already satisfied: jsonschema-specifications>=2023.03.6 in /usr/local/lib/python3.10/site-packages (from jsonschema->sagemaker->-r local-requirements.txt (line 8)) (2023.12.1)\n",
      "Requirement already satisfied: referencing>=0.28.4 in /usr/local/lib/python3.10/site-packages (from jsonschema->sagemaker->-r local-requirements.txt (line 8)) (0.32.1)\n",
      "Requirement already satisfied: rpds-py>=0.7.1 in /usr/local/lib/python3.10/site-packages (from jsonschema->sagemaker->-r local-requirements.txt (line 8)) (0.17.1)\n",
      "Requirement already satisfied: ppft>=1.7.6.7 in /usr/local/lib/python3.10/site-packages (from pathos->sagemaker->-r local-requirements.txt (line 8)) (1.7.6.7)\n",
      "Requirement already satisfied: dill>=0.3.7 in /usr/local/lib/python3.10/site-packages (from pathos->sagemaker->-r local-requirements.txt (line 8)) (0.3.7)\n",
      "Requirement already satisfied: pox>=0.3.3 in /usr/local/lib/python3.10/site-packages (from pathos->sagemaker->-r local-requirements.txt (line 8)) (0.3.3)\n",
      "Requirement already satisfied: multiprocess>=0.70.15 in /usr/local/lib/python3.10/site-packages (from pathos->sagemaker->-r local-requirements.txt (line 8)) (0.70.15)\n",
      "Requirement already satisfied: contextlib2>=0.5.5 in /usr/local/lib/python3.10/site-packages (from schema->sagemaker->-r local-requirements.txt (line 8)) (21.6.0)\n",
      "Requirement already satisfied: setuptools in /usr/local/lib/python3.10/site-packages (from zope.event->gevent->-r local-requirements.txt (line 5)) (69.0.2)\n",
      "Requirement already satisfied: typing-extensions>=4.2.0 in /usr/local/lib/python3.10/site-packages (from pydantic!=1.7,!=1.7.1,!=1.7.2,!=1.7.3,!=1.8,!=1.8.1,<2.0.0,>=1.6.2->fastapi==0.95.2->sagemaker->-r local-requirements.txt (line 8)) (4.9.0)\n",
      "Requirement already satisfied: anyio<5,>=3.4.0 in /usr/local/lib/python3.10/site-packages (from starlette<0.28.0,>=0.27.0->fastapi==0.95.2->sagemaker->-r local-requirements.txt (line 8)) (4.2.0)\n",
      "Requirement already satisfied: sniffio>=1.1 in /usr/local/lib/python3.10/site-packages (from anyio<5,>=3.4.0->starlette<0.28.0,>=0.27.0->fastapi==0.95.2->sagemaker->-r local-requirements.txt (line 8)) (1.3.0)\n",
      "Requirement already satisfied: exceptiongroup>=1.0.2 in /usr/local/lib/python3.10/site-packages (from anyio<5,>=3.4.0->starlette<0.28.0,>=0.27.0->fastapi==0.95.2->sagemaker->-r local-requirements.txt (line 8)) (1.2.0)\n",
      "\u001b[33mWARNING: Running pip as the 'root' user can result in broken permissions and conflicting behaviour with the system package manager. It is recommended to use a virtual environment instead: https://pip.pypa.io/warnings/venv\u001b[0m\u001b[33m\n",
      "\u001b[0mThe autoreload extension is already loaded. To reload it, use:\n",
      "  %reload_ext autoreload\n"
     ]
    }
   ],
   "source": [
    "!pip install --upgrade pip\n",
    "!pip install -r local-requirements.txt\n",
    "\n",
    "# make sure updates to the python modules are imported\n",
    "%load_ext autoreload\n",
    "%autoreload 2"
   ]
  },
  {
   "cell_type": "code",
   "execution_count": 10,
   "id": "7ef292ba",
   "metadata": {
    "collapsed": false,
    "jupyter": {
     "outputs_hidden": false
    },
    "tags": []
   },
   "outputs": [
    {
     "name": "stdout",
     "output_type": "stream",
     "text": [
      "Default data location: s3://sagemaker-us-east-1-221095015993/llm-evaluation-at-scale-example\n",
      "Default train location: s3://sagemaker-us-east-1-221095015993/llm-evaluation-at-scale-example/train_dataset\n",
      "Default data location: s3://sagemaker-us-east-1-221095015993/llm-evaluation-at-scale-example/val_dataset\n"
     ]
    },
    {
     "data": {
      "text/plain": [
       "'s3://sagemaker-us-east-1-221095015993/llm-evaluation-at-scale-example/val_dataset/template.json'"
      ]
     },
     "execution_count": 10,
     "metadata": {},
     "output_type": "execute_result"
    }
   ],
   "source": [
    "from sagemaker.s3 import S3Uploader\n",
    "import sagemaker\n",
    "import boto3\n",
    "import string\n",
    "import json\n",
    "\n",
    "# Upload the data from the local dataset folder to the default bucket\n",
    "output_bucket = sagemaker.Session().default_bucket()\n",
    "        \n",
    "local_data_file = \"../datasets/template.json\"\n",
    "data_s3_location = f\"s3://{output_bucket}/llm-evaluation-at-scale-example\"\n",
    "training_s3_location = f\"{data_s3_location}/train_dataset\"\n",
    "validation_s3_location = f\"{data_s3_location}/val_dataset\"\n",
    "\n",
    "print(f\"Default data location: {data_s3_location}\")\n",
    "print(f\"Default train location: {training_s3_location}\")\n",
    "print(f\"Default data location: {validation_s3_location}\")\n",
    "\n",
    "S3Uploader.upload(\"../datasets/evaluation_dataset_trivia.jsonl\", data_s3_location)\n",
    "S3Uploader.upload(\"../datasets/train_dataset_trivia.jsonl\", training_s3_location)\n",
    "S3Uploader.upload(\"../datasets/template.json\", training_s3_location)\n",
    "S3Uploader.upload(\"../datasets/validation_dataset_trivia.jsonl\", validation_s3_location)\n",
    "S3Uploader.upload(\"../datasets/template.json\", validation_s3_location)"
   ]
  },
  {
   "cell_type": "code",
   "execution_count": 12,
   "id": "2906f38b-8d33-4844-8090-4e73ee756aa9",
   "metadata": {},
   "outputs": [
    {
     "data": {
      "text/plain": [
       "{'ResponseMetadata': {'RequestId': '0R7CXX4P5A0EH9AQ',\n",
       "  'HostId': 'cV+OGwj4rIN0vkqazZ2gcmtq2K8T2JjclhAsO5kBVnUuReps0LoIOLpmZc+6O75XNPCcKHFWbC9GUlzeCYzRd2aKQFMTBOOs88zI2xBtUFM=',\n",
       "  'HTTPStatusCode': 200,\n",
       "  'HTTPHeaders': {'x-amz-id-2': 'cV+OGwj4rIN0vkqazZ2gcmtq2K8T2JjclhAsO5kBVnUuReps0LoIOLpmZc+6O75XNPCcKHFWbC9GUlzeCYzRd2aKQFMTBOOs88zI2xBtUFM=',\n",
       "   'x-amz-request-id': '0R7CXX4P5A0EH9AQ',\n",
       "   'date': 'Fri, 19 Jan 2024 10:49:37 GMT',\n",
       "   'server': 'AmazonS3',\n",
       "   'content-length': '0'},\n",
       "  'RetryAttempts': 0}}"
      ]
     },
     "execution_count": 12,
     "metadata": {},
     "output_type": "execute_result"
    }
   ],
   "source": [
    "# Optional Step - upload addition data for further testing via the Studio UI\n",
    "data_s3_location_additional = f\"s3://{output_bucket}/llm-evaluation-ui-example\"\n",
    "\n",
    "S3Uploader.upload(\"../datasets/other_datasets/evaluation_dataset_small.jsonl\", data_s3_location_additional)\n",
    "S3Uploader.upload(\"../datasets/other_datasets/evaluation_dataset_human.jsonl\", data_s3_location_additional)\n",
    "\n",
    "# Need for Amazon Clarify UI\n",
    "def attach_cors_to_bucket(bucket_name):    \n",
    "    s3 = boto3.client('s3')\n",
    "  \n",
    "    try:\n",
    "        response = s3.put_bucket_cors(Bucket = bucket_name, \n",
    "                                      CORSConfiguration = {\n",
    "                                            'CORSRules' : [\n",
    "                                                {\n",
    "                                                    'ID' : bucket_name + 'cors',\n",
    "                                                    'AllowedHeaders' : [ '*' ],\n",
    "                                                    'AllowedMethods' : [ 'PUT', 'GET', 'POST', 'DELETE', 'HEAD' ],\n",
    "                                                    'AllowedOrigins' : [ '*' ],\n",
    "                                                    'ExposeHeaders' :  [ 'ETag', 'x-amz-delete-marker', 'x-amz-server-side-encryption',\n",
    "                                                                         'x-amz-request-id','x-amz-version-id','x-amz-id-2']\n",
    "                                                }\n",
    "                                            ]\n",
    "                                        })\n",
    "    except ClientError as e:\n",
    "            return None\n",
    "    return response\n",
    "\n",
    "attach_cors_to_bucket(output_bucket)"
   ]
  },
  {
   "cell_type": "code",
   "execution_count": null,
   "id": "8a28fb11-2ab5-4e44-b3aa-5de242b7089e",
   "metadata": {
    "tags": []
   },
   "outputs": [],
   "source": [
    "!python pipeline.py --config pipeline_config.yaml"
   ]
  },
  {
   "cell_type": "code",
   "execution_count": null,
   "id": "7916c035-be5d-4080-86e0-c3c35494bb71",
   "metadata": {
    "tags": []
   },
   "outputs": [],
   "source": [
    "!python pipeline_scale.py --config pipeline_scale_config.yaml"
   ]
  },
  {
   "cell_type": "code",
   "execution_count": null,
   "id": "044c0eb6-12cb-432b-a7c0-bb566d779597",
   "metadata": {},
   "outputs": [],
   "source": [
    "!python pipeline_finetuning.py --config pipeline_finetuning_config.yaml"
   ]
  },
  {
   "cell_type": "code",
   "execution_count": null,
   "id": "6115d835-6f0e-458e-9813-d1932da39981",
   "metadata": {
    "tags": []
   },
   "outputs": [],
   "source": [
    "!python pipeline_scale.py --config pipeline_scale_hybrid_config.yaml"
   ]
  },
  {
   "cell_type": "code",
   "execution_count": null,
   "id": "42b037cf-7398-4159-85bb-8aa5832ce526",
   "metadata": {},
   "outputs": [],
   "source": []
  }
 ],
 "metadata": {
  "availableInstances": [
   {
    "_defaultOrder": 0,
    "_isFastLaunch": true,
    "category": "General purpose",
    "gpuNum": 0,
    "hideHardwareSpecs": false,
    "memoryGiB": 4,
    "name": "ml.t3.medium",
    "vcpuNum": 2
   },
   {
    "_defaultOrder": 1,
    "_isFastLaunch": false,
    "category": "General purpose",
    "gpuNum": 0,
    "hideHardwareSpecs": false,
    "memoryGiB": 8,
    "name": "ml.t3.large",
    "vcpuNum": 2
   },
   {
    "_defaultOrder": 2,
    "_isFastLaunch": false,
    "category": "General purpose",
    "gpuNum": 0,
    "hideHardwareSpecs": false,
    "memoryGiB": 16,
    "name": "ml.t3.xlarge",
    "vcpuNum": 4
   },
   {
    "_defaultOrder": 3,
    "_isFastLaunch": false,
    "category": "General purpose",
    "gpuNum": 0,
    "hideHardwareSpecs": false,
    "memoryGiB": 32,
    "name": "ml.t3.2xlarge",
    "vcpuNum": 8
   },
   {
    "_defaultOrder": 4,
    "_isFastLaunch": true,
    "category": "General purpose",
    "gpuNum": 0,
    "hideHardwareSpecs": false,
    "memoryGiB": 8,
    "name": "ml.m5.large",
    "vcpuNum": 2
   },
   {
    "_defaultOrder": 5,
    "_isFastLaunch": false,
    "category": "General purpose",
    "gpuNum": 0,
    "hideHardwareSpecs": false,
    "memoryGiB": 16,
    "name": "ml.m5.xlarge",
    "vcpuNum": 4
   },
   {
    "_defaultOrder": 6,
    "_isFastLaunch": false,
    "category": "General purpose",
    "gpuNum": 0,
    "hideHardwareSpecs": false,
    "memoryGiB": 32,
    "name": "ml.m5.2xlarge",
    "vcpuNum": 8
   },
   {
    "_defaultOrder": 7,
    "_isFastLaunch": false,
    "category": "General purpose",
    "gpuNum": 0,
    "hideHardwareSpecs": false,
    "memoryGiB": 64,
    "name": "ml.m5.4xlarge",
    "vcpuNum": 16
   },
   {
    "_defaultOrder": 8,
    "_isFastLaunch": false,
    "category": "General purpose",
    "gpuNum": 0,
    "hideHardwareSpecs": false,
    "memoryGiB": 128,
    "name": "ml.m5.8xlarge",
    "vcpuNum": 32
   },
   {
    "_defaultOrder": 9,
    "_isFastLaunch": false,
    "category": "General purpose",
    "gpuNum": 0,
    "hideHardwareSpecs": false,
    "memoryGiB": 192,
    "name": "ml.m5.12xlarge",
    "vcpuNum": 48
   },
   {
    "_defaultOrder": 10,
    "_isFastLaunch": false,
    "category": "General purpose",
    "gpuNum": 0,
    "hideHardwareSpecs": false,
    "memoryGiB": 256,
    "name": "ml.m5.16xlarge",
    "vcpuNum": 64
   },
   {
    "_defaultOrder": 11,
    "_isFastLaunch": false,
    "category": "General purpose",
    "gpuNum": 0,
    "hideHardwareSpecs": false,
    "memoryGiB": 384,
    "name": "ml.m5.24xlarge",
    "vcpuNum": 96
   },
   {
    "_defaultOrder": 12,
    "_isFastLaunch": false,
    "category": "General purpose",
    "gpuNum": 0,
    "hideHardwareSpecs": false,
    "memoryGiB": 8,
    "name": "ml.m5d.large",
    "vcpuNum": 2
   },
   {
    "_defaultOrder": 13,
    "_isFastLaunch": false,
    "category": "General purpose",
    "gpuNum": 0,
    "hideHardwareSpecs": false,
    "memoryGiB": 16,
    "name": "ml.m5d.xlarge",
    "vcpuNum": 4
   },
   {
    "_defaultOrder": 14,
    "_isFastLaunch": false,
    "category": "General purpose",
    "gpuNum": 0,
    "hideHardwareSpecs": false,
    "memoryGiB": 32,
    "name": "ml.m5d.2xlarge",
    "vcpuNum": 8
   },
   {
    "_defaultOrder": 15,
    "_isFastLaunch": false,
    "category": "General purpose",
    "gpuNum": 0,
    "hideHardwareSpecs": false,
    "memoryGiB": 64,
    "name": "ml.m5d.4xlarge",
    "vcpuNum": 16
   },
   {
    "_defaultOrder": 16,
    "_isFastLaunch": false,
    "category": "General purpose",
    "gpuNum": 0,
    "hideHardwareSpecs": false,
    "memoryGiB": 128,
    "name": "ml.m5d.8xlarge",
    "vcpuNum": 32
   },
   {
    "_defaultOrder": 17,
    "_isFastLaunch": false,
    "category": "General purpose",
    "gpuNum": 0,
    "hideHardwareSpecs": false,
    "memoryGiB": 192,
    "name": "ml.m5d.12xlarge",
    "vcpuNum": 48
   },
   {
    "_defaultOrder": 18,
    "_isFastLaunch": false,
    "category": "General purpose",
    "gpuNum": 0,
    "hideHardwareSpecs": false,
    "memoryGiB": 256,
    "name": "ml.m5d.16xlarge",
    "vcpuNum": 64
   },
   {
    "_defaultOrder": 19,
    "_isFastLaunch": false,
    "category": "General purpose",
    "gpuNum": 0,
    "hideHardwareSpecs": false,
    "memoryGiB": 384,
    "name": "ml.m5d.24xlarge",
    "vcpuNum": 96
   },
   {
    "_defaultOrder": 20,
    "_isFastLaunch": false,
    "category": "General purpose",
    "gpuNum": 0,
    "hideHardwareSpecs": true,
    "memoryGiB": 0,
    "name": "ml.geospatial.interactive",
    "supportedImageNames": [
     "sagemaker-geospatial-v1-0"
    ],
    "vcpuNum": 0
   },
   {
    "_defaultOrder": 21,
    "_isFastLaunch": true,
    "category": "Compute optimized",
    "gpuNum": 0,
    "hideHardwareSpecs": false,
    "memoryGiB": 4,
    "name": "ml.c5.large",
    "vcpuNum": 2
   },
   {
    "_defaultOrder": 22,
    "_isFastLaunch": false,
    "category": "Compute optimized",
    "gpuNum": 0,
    "hideHardwareSpecs": false,
    "memoryGiB": 8,
    "name": "ml.c5.xlarge",
    "vcpuNum": 4
   },
   {
    "_defaultOrder": 23,
    "_isFastLaunch": false,
    "category": "Compute optimized",
    "gpuNum": 0,
    "hideHardwareSpecs": false,
    "memoryGiB": 16,
    "name": "ml.c5.2xlarge",
    "vcpuNum": 8
   },
   {
    "_defaultOrder": 24,
    "_isFastLaunch": false,
    "category": "Compute optimized",
    "gpuNum": 0,
    "hideHardwareSpecs": false,
    "memoryGiB": 32,
    "name": "ml.c5.4xlarge",
    "vcpuNum": 16
   },
   {
    "_defaultOrder": 25,
    "_isFastLaunch": false,
    "category": "Compute optimized",
    "gpuNum": 0,
    "hideHardwareSpecs": false,
    "memoryGiB": 72,
    "name": "ml.c5.9xlarge",
    "vcpuNum": 36
   },
   {
    "_defaultOrder": 26,
    "_isFastLaunch": false,
    "category": "Compute optimized",
    "gpuNum": 0,
    "hideHardwareSpecs": false,
    "memoryGiB": 96,
    "name": "ml.c5.12xlarge",
    "vcpuNum": 48
   },
   {
    "_defaultOrder": 27,
    "_isFastLaunch": false,
    "category": "Compute optimized",
    "gpuNum": 0,
    "hideHardwareSpecs": false,
    "memoryGiB": 144,
    "name": "ml.c5.18xlarge",
    "vcpuNum": 72
   },
   {
    "_defaultOrder": 28,
    "_isFastLaunch": false,
    "category": "Compute optimized",
    "gpuNum": 0,
    "hideHardwareSpecs": false,
    "memoryGiB": 192,
    "name": "ml.c5.24xlarge",
    "vcpuNum": 96
   },
   {
    "_defaultOrder": 29,
    "_isFastLaunch": true,
    "category": "Accelerated computing",
    "gpuNum": 1,
    "hideHardwareSpecs": false,
    "memoryGiB": 16,
    "name": "ml.g4dn.xlarge",
    "vcpuNum": 4
   },
   {
    "_defaultOrder": 30,
    "_isFastLaunch": false,
    "category": "Accelerated computing",
    "gpuNum": 1,
    "hideHardwareSpecs": false,
    "memoryGiB": 32,
    "name": "ml.g4dn.2xlarge",
    "vcpuNum": 8
   },
   {
    "_defaultOrder": 31,
    "_isFastLaunch": false,
    "category": "Accelerated computing",
    "gpuNum": 1,
    "hideHardwareSpecs": false,
    "memoryGiB": 64,
    "name": "ml.g4dn.4xlarge",
    "vcpuNum": 16
   },
   {
    "_defaultOrder": 32,
    "_isFastLaunch": false,
    "category": "Accelerated computing",
    "gpuNum": 1,
    "hideHardwareSpecs": false,
    "memoryGiB": 128,
    "name": "ml.g4dn.8xlarge",
    "vcpuNum": 32
   },
   {
    "_defaultOrder": 33,
    "_isFastLaunch": false,
    "category": "Accelerated computing",
    "gpuNum": 4,
    "hideHardwareSpecs": false,
    "memoryGiB": 192,
    "name": "ml.g4dn.12xlarge",
    "vcpuNum": 48
   },
   {
    "_defaultOrder": 34,
    "_isFastLaunch": false,
    "category": "Accelerated computing",
    "gpuNum": 1,
    "hideHardwareSpecs": false,
    "memoryGiB": 256,
    "name": "ml.g4dn.16xlarge",
    "vcpuNum": 64
   },
   {
    "_defaultOrder": 35,
    "_isFastLaunch": false,
    "category": "Accelerated computing",
    "gpuNum": 1,
    "hideHardwareSpecs": false,
    "memoryGiB": 61,
    "name": "ml.p3.2xlarge",
    "vcpuNum": 8
   },
   {
    "_defaultOrder": 36,
    "_isFastLaunch": false,
    "category": "Accelerated computing",
    "gpuNum": 4,
    "hideHardwareSpecs": false,
    "memoryGiB": 244,
    "name": "ml.p3.8xlarge",
    "vcpuNum": 32
   },
   {
    "_defaultOrder": 37,
    "_isFastLaunch": false,
    "category": "Accelerated computing",
    "gpuNum": 8,
    "hideHardwareSpecs": false,
    "memoryGiB": 488,
    "name": "ml.p3.16xlarge",
    "vcpuNum": 64
   },
   {
    "_defaultOrder": 38,
    "_isFastLaunch": false,
    "category": "Accelerated computing",
    "gpuNum": 8,
    "hideHardwareSpecs": false,
    "memoryGiB": 768,
    "name": "ml.p3dn.24xlarge",
    "vcpuNum": 96
   },
   {
    "_defaultOrder": 39,
    "_isFastLaunch": false,
    "category": "Memory Optimized",
    "gpuNum": 0,
    "hideHardwareSpecs": false,
    "memoryGiB": 16,
    "name": "ml.r5.large",
    "vcpuNum": 2
   },
   {
    "_defaultOrder": 40,
    "_isFastLaunch": false,
    "category": "Memory Optimized",
    "gpuNum": 0,
    "hideHardwareSpecs": false,
    "memoryGiB": 32,
    "name": "ml.r5.xlarge",
    "vcpuNum": 4
   },
   {
    "_defaultOrder": 41,
    "_isFastLaunch": false,
    "category": "Memory Optimized",
    "gpuNum": 0,
    "hideHardwareSpecs": false,
    "memoryGiB": 64,
    "name": "ml.r5.2xlarge",
    "vcpuNum": 8
   },
   {
    "_defaultOrder": 42,
    "_isFastLaunch": false,
    "category": "Memory Optimized",
    "gpuNum": 0,
    "hideHardwareSpecs": false,
    "memoryGiB": 128,
    "name": "ml.r5.4xlarge",
    "vcpuNum": 16
   },
   {
    "_defaultOrder": 43,
    "_isFastLaunch": false,
    "category": "Memory Optimized",
    "gpuNum": 0,
    "hideHardwareSpecs": false,
    "memoryGiB": 256,
    "name": "ml.r5.8xlarge",
    "vcpuNum": 32
   },
   {
    "_defaultOrder": 44,
    "_isFastLaunch": false,
    "category": "Memory Optimized",
    "gpuNum": 0,
    "hideHardwareSpecs": false,
    "memoryGiB": 384,
    "name": "ml.r5.12xlarge",
    "vcpuNum": 48
   },
   {
    "_defaultOrder": 45,
    "_isFastLaunch": false,
    "category": "Memory Optimized",
    "gpuNum": 0,
    "hideHardwareSpecs": false,
    "memoryGiB": 512,
    "name": "ml.r5.16xlarge",
    "vcpuNum": 64
   },
   {
    "_defaultOrder": 46,
    "_isFastLaunch": false,
    "category": "Memory Optimized",
    "gpuNum": 0,
    "hideHardwareSpecs": false,
    "memoryGiB": 768,
    "name": "ml.r5.24xlarge",
    "vcpuNum": 96
   },
   {
    "_defaultOrder": 47,
    "_isFastLaunch": false,
    "category": "Accelerated computing",
    "gpuNum": 1,
    "hideHardwareSpecs": false,
    "memoryGiB": 16,
    "name": "ml.g5.xlarge",
    "vcpuNum": 4
   },
   {
    "_defaultOrder": 48,
    "_isFastLaunch": false,
    "category": "Accelerated computing",
    "gpuNum": 1,
    "hideHardwareSpecs": false,
    "memoryGiB": 32,
    "name": "ml.g5.2xlarge",
    "vcpuNum": 8
   },
   {
    "_defaultOrder": 49,
    "_isFastLaunch": false,
    "category": "Accelerated computing",
    "gpuNum": 1,
    "hideHardwareSpecs": false,
    "memoryGiB": 64,
    "name": "ml.g5.4xlarge",
    "vcpuNum": 16
   },
   {
    "_defaultOrder": 50,
    "_isFastLaunch": false,
    "category": "Accelerated computing",
    "gpuNum": 1,
    "hideHardwareSpecs": false,
    "memoryGiB": 128,
    "name": "ml.g5.8xlarge",
    "vcpuNum": 32
   },
   {
    "_defaultOrder": 51,
    "_isFastLaunch": false,
    "category": "Accelerated computing",
    "gpuNum": 1,
    "hideHardwareSpecs": false,
    "memoryGiB": 256,
    "name": "ml.g5.16xlarge",
    "vcpuNum": 64
   },
   {
    "_defaultOrder": 52,
    "_isFastLaunch": false,
    "category": "Accelerated computing",
    "gpuNum": 4,
    "hideHardwareSpecs": false,
    "memoryGiB": 192,
    "name": "ml.g5.12xlarge",
    "vcpuNum": 48
   },
   {
    "_defaultOrder": 53,
    "_isFastLaunch": false,
    "category": "Accelerated computing",
    "gpuNum": 4,
    "hideHardwareSpecs": false,
    "memoryGiB": 384,
    "name": "ml.g5.24xlarge",
    "vcpuNum": 96
   },
   {
    "_defaultOrder": 54,
    "_isFastLaunch": false,
    "category": "Accelerated computing",
    "gpuNum": 8,
    "hideHardwareSpecs": false,
    "memoryGiB": 768,
    "name": "ml.g5.48xlarge",
    "vcpuNum": 192
   },
   {
    "_defaultOrder": 55,
    "_isFastLaunch": false,
    "category": "Accelerated computing",
    "gpuNum": 8,
    "hideHardwareSpecs": false,
    "memoryGiB": 1152,
    "name": "ml.p4d.24xlarge",
    "vcpuNum": 96
   },
   {
    "_defaultOrder": 56,
    "_isFastLaunch": false,
    "category": "Accelerated computing",
    "gpuNum": 8,
    "hideHardwareSpecs": false,
    "memoryGiB": 1152,
    "name": "ml.p4de.24xlarge",
    "vcpuNum": 96
   },
   {
    "_defaultOrder": 57,
    "_isFastLaunch": false,
    "category": "Accelerated computing",
    "gpuNum": 0,
    "hideHardwareSpecs": false,
    "memoryGiB": 32,
    "name": "ml.trn1.2xlarge",
    "vcpuNum": 8
   },
   {
    "_defaultOrder": 58,
    "_isFastLaunch": false,
    "category": "Accelerated computing",
    "gpuNum": 0,
    "hideHardwareSpecs": false,
    "memoryGiB": 512,
    "name": "ml.trn1.32xlarge",
    "vcpuNum": 128
   },
   {
    "_defaultOrder": 59,
    "_isFastLaunch": false,
    "category": "Accelerated computing",
    "gpuNum": 0,
    "hideHardwareSpecs": false,
    "memoryGiB": 512,
    "name": "ml.trn1n.32xlarge",
    "vcpuNum": 128
   }
  ],
  "instance_type": "ml.m5.large",
  "kernelspec": {
   "display_name": "Python 3 (Base Python 3.0)",
   "language": "python",
   "name": "python3__SAGEMAKER_INTERNAL__arn:aws:sagemaker:us-east-1:081325390199:image/sagemaker-base-python-310-v1"
  },
  "language_info": {
   "codemirror_mode": {
    "name": "ipython",
    "version": 3
   },
   "file_extension": ".py",
   "mimetype": "text/x-python",
   "name": "python",
   "nbconvert_exporter": "python",
   "pygments_lexer": "ipython3",
   "version": "3.10.8"
  }
 },
 "nbformat": 4,
 "nbformat_minor": 5
}
